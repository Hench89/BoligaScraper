{
 "cells": [
  {
   "cell_type": "markdown",
   "metadata": {},
   "source": [
    "## Setup"
   ]
  },
  {
   "cell_type": "code",
   "execution_count": 1,
   "metadata": {},
   "outputs": [],
   "source": [
    "import mechanicalsoup as ms\n",
    "import pandas as pd\n",
    "import numpy as np\n",
    "import re"
   ]
  },
  {
   "cell_type": "markdown",
   "metadata": {},
   "source": [
    "## Get Listings"
   ]
  },
  {
   "cell_type": "code",
   "execution_count": 2,
   "metadata": {},
   "outputs": [],
   "source": [
    "# get zipcodes\n",
    "zipcodes = '3450,3500'"
   ]
  },
  {
   "cell_type": "code",
   "execution_count": 3,
   "metadata": {},
   "outputs": [],
   "source": [
    "# get data as html\n",
    "browser = ms.StatefulBrowser()\n",
    "browser.open(\"https://www.boliga.dk/resultat?zipCodes=\" + zipcodes + \"&propertyType=1\")\n",
    "html = browser.get_current_page()"
   ]
  },
  {
   "cell_type": "code",
   "execution_count": 4,
   "metadata": {},
   "outputs": [],
   "source": [
    "# get paging stats\n",
    "pg_stats = html.find_all('div', attrs={'class': re.compile('paging-stats')})\n",
    "pg_stats = pg_stats[-1].get_text()"
   ]
  },
  {
   "cell_type": "code",
   "execution_count": 5,
   "metadata": {},
   "outputs": [
    {
     "name": "stdout",
     "output_type": "stream",
     "text": [
      "need to iterate 2 pages...\n"
     ]
    }
   ],
   "source": [
    "# deduct pages needed to iterate\n",
    "listings_count = re.search('(\\d+)(?!.*\\d)', pg_stats).group(0)\n",
    "pages = int(np.ceil(int(listings_count) / 50))\n",
    "print('need to iterate', pages, 'pages...')"
   ]
  },
  {
   "cell_type": "code",
   "execution_count": 7,
   "metadata": {},
   "outputs": [
    {
     "name": "stdout",
     "output_type": "stream",
     "text": [
      "fetching data from page 1\n",
      "fetching data from page 2\n"
     ]
    }
   ],
   "source": [
    "# get listings\n",
    "listings = []\n",
    "for p in range(1, pages+1):\n",
    "    print('fetching data from page', p)\n",
    "    \n",
    "    # open page\n",
    "    url = \"https://www.boliga.dk/resultat?zipCodes=\" + zipcodes + \"&page=\" + str(p) + \"&propertyType=1\"\n",
    "    browser.open(url)\n",
    "    \n",
    "    # retrieve listings\n",
    "    html = browser.get_current_page()\n",
    "    a = html.find_all('a', attrs={'href': re.compile(\"^/bolig/\")})\n",
    "    for item in a:\n",
    "        listings.append(item.get('href'))\n",
    "    \n",
    "listings = np.unique(listings)"
   ]
  },
  {
   "cell_type": "markdown",
   "metadata": {},
   "source": [
    "# Get Data per Listing"
   ]
  },
  {
   "cell_type": "code",
   "execution_count": 8,
   "metadata": {},
   "outputs": [],
   "source": [
    "# method to return bs4 objects for processing\n",
    "def getSoup(bolig_id):\n",
    "    \n",
    "    # open page\n",
    "    url = \"https://www.boliga.dk\" + bolig_id\n",
    "    browser.open(url)\n",
    "    soup = browser.get_current_page()\n",
    "    \n",
    "    # get inner details\n",
    "    inner_details = soup.find_all('div', attrs={'class': 'app-inner-details'})[0]\n",
    "    \n",
    "    # get first row\n",
    "    short_id = re.search('/\\d+/', bolig_id).group(0)\n",
    "    soup_row = soup.find_all('div', attrs={'class': 'row no-gutters'})[0]\n",
    "    soup_icons = inner_details.find_all('use')\n",
    "    \n",
    "    return short_id, soup_row, soup_icons"
   ]
  },
  {
   "cell_type": "code",
   "execution_count": 67,
   "metadata": {},
   "outputs": [],
   "source": [
    "# processing of bs4 object, related to icons on page\n",
    "def processIcons(soup):\n",
    "    \n",
    "    d = {}\n",
    "    \n",
    "    for i in soup:\n",
    "        \n",
    "        # get all spans to read data from\n",
    "        icon_name = i.get('xlink:href')\n",
    "        \n",
    "        p = i.find_parent()\n",
    "        pp = p.find_parent()\n",
    "        ppp = pp.find_parent()\n",
    "\n",
    "        icon_type = ''\n",
    "        icon_value = ''\n",
    "        \n",
    "        grp1 = ['#icon-rooms', '#icon-floor']\n",
    "        grp2 = ['#icon-square','#icon-lot-size','#icon-construction-year',\\\n",
    "                '#icon-energy','#icon-taxes','#icon-basement-size']\n",
    "\n",
    "        if icon_name in grp1:\n",
    "            spans = pp.find_all('span')\n",
    "            icon_value = spans[1].get_text().strip()\n",
    "            d[icon_name] = icon_value\n",
    "            \n",
    "        if icon_name in grp2:\n",
    "            spans = pp.find_all('span')\n",
    "            icon_value = spans[1].get_text().strip()\n",
    "            d[icon_name] = icon_value\n",
    "        \n",
    "    return d"
   ]
  },
  {
   "cell_type": "code",
   "execution_count": 92,
   "metadata": {},
   "outputs": [],
   "source": [
    "def processRow(soup):\n",
    "    d = {}\n",
    "    \n",
    "    # get created date\n",
    "    span = soup.find_all('span', attrs={'class': 'text-muted'})[0]\n",
    "    d['address']  = span.get_text()\n",
    "    \n",
    "    # get price\n",
    "    span = soup.find_all('span', attrs={'class': 'font-weight-bolder'})[0]\n",
    "    d['price'] = span.get_text()\n",
    "    \n",
    "    span = soup.find_all('p', attrs={'class': 'ng-star-inserted'})[-1]\n",
    "    d['created'] = span.get_text()\n",
    "    \n",
    "    return d"
   ]
  },
  {
   "cell_type": "code",
   "execution_count": 105,
   "metadata": {},
   "outputs": [],
   "source": [
    "def getListingData(url_list):\n",
    "    housingDetails = []\n",
    "    for b in url_list[:10]:\n",
    "\n",
    "        # get soup\n",
    "        short_id, soup_row, soup_icons = getSoup(b)\n",
    "\n",
    "        # process for details\n",
    "        id_details = {'id': short_id}\n",
    "        row_details = processRow(soup_row)\n",
    "        icon_details = processIcons(soup_icons)\n",
    "        d = {**id_details, **row_details, **icon_details}\n",
    "\n",
    "        # add to result list\n",
    "        housingDetails.append(d)\n",
    "        \n",
    "    return pd.DataFrame(housingDetails)"
   ]
  },
  {
   "cell_type": "markdown",
   "metadata": {},
   "source": [
    "### Process all to dataframe"
   ]
  },
  {
   "cell_type": "code",
   "execution_count": 106,
   "metadata": {
    "scrolled": false
   },
   "outputs": [
    {
     "data": {
      "text/html": [
       "<div>\n",
       "<style scoped>\n",
       "    .dataframe tbody tr th:only-of-type {\n",
       "        vertical-align: middle;\n",
       "    }\n",
       "\n",
       "    .dataframe tbody tr th {\n",
       "        vertical-align: top;\n",
       "    }\n",
       "\n",
       "    .dataframe thead th {\n",
       "        text-align: right;\n",
       "    }\n",
       "</style>\n",
       "<table border=\"1\" class=\"dataframe\">\n",
       "  <thead>\n",
       "    <tr style=\"text-align: right;\">\n",
       "      <th></th>\n",
       "      <th>id</th>\n",
       "      <th>price</th>\n",
       "      <th>address</th>\n",
       "      <th>created</th>\n",
       "      <th>#icon-square</th>\n",
       "      <th>#icon-lot-size</th>\n",
       "      <th>#icon-rooms</th>\n",
       "      <th>#icon-floor</th>\n",
       "      <th>#icon-construction-year</th>\n",
       "      <th>#icon-energy</th>\n",
       "      <th>#icon-taxes</th>\n",
       "      <th>#icon-basement-size</th>\n",
       "    </tr>\n",
       "  </thead>\n",
       "  <tbody>\n",
       "    <tr>\n",
       "      <th>0</th>\n",
       "      <td>/1485565/</td>\n",
       "      <td>4.495.000 kr.</td>\n",
       "      <td>Enhøjsvej 22, 3450 Allerød</td>\n",
       "      <td>Oprettet 24. sep. 2018</td>\n",
       "      <td>219 m²</td>\n",
       "      <td>1.182 m²</td>\n",
       "      <td>7</td>\n",
       "      <td>0. sal</td>\n",
       "      <td>1949</td>\n",
       "      <td>D</td>\n",
       "      <td>5.315 kr. / md.</td>\n",
       "      <td>102 m²</td>\n",
       "    </tr>\n",
       "    <tr>\n",
       "      <th>1</th>\n",
       "      <td>/1511475/</td>\n",
       "      <td>5.245.000 kr.</td>\n",
       "      <td>Skovvejen 21  3450 Allerød, 3450 Allerød</td>\n",
       "      <td>Oprettet 27. dec. 2018</td>\n",
       "      <td>173 m²</td>\n",
       "      <td>681 m²</td>\n",
       "      <td>4</td>\n",
       "      <td>0. sal</td>\n",
       "      <td>2019</td>\n",
       "      <td>-</td>\n",
       "      <td>7.732 kr. / md.</td>\n",
       "      <td>0 m²</td>\n",
       "    </tr>\n",
       "    <tr>\n",
       "      <th>2</th>\n",
       "      <td>/1572772/</td>\n",
       "      <td>14.950.000 kr.</td>\n",
       "      <td>Kollerød Bygade 23, Kollerød, 3450 Allerød</td>\n",
       "      <td>Oprettet 29. jun. 2019</td>\n",
       "      <td>250 m²</td>\n",
       "      <td>147.974 m²</td>\n",
       "      <td>10</td>\n",
       "      <td>0. sal</td>\n",
       "      <td>1996</td>\n",
       "      <td>A10</td>\n",
       "      <td>4.514 kr. / md.</td>\n",
       "      <td>0 m²</td>\n",
       "    </tr>\n",
       "    <tr>\n",
       "      <th>3</th>\n",
       "      <td>/1606136/</td>\n",
       "      <td>5.295.000 kr.</td>\n",
       "      <td>Bybrøndstræde 1, 3500 Værløse</td>\n",
       "      <td>Oprettet 17. okt. 2019</td>\n",
       "      <td>185 m²</td>\n",
       "      <td>647 m²</td>\n",
       "      <td>6</td>\n",
       "      <td>0. sal</td>\n",
       "      <td>1850</td>\n",
       "      <td>C</td>\n",
       "      <td>5.061 kr. / md.</td>\n",
       "      <td>0 m²</td>\n",
       "    </tr>\n",
       "    <tr>\n",
       "      <th>4</th>\n",
       "      <td>/1620436/</td>\n",
       "      <td>13.500.000 kr.</td>\n",
       "      <td>Kollerødvej 51, 3450 Allerød</td>\n",
       "      <td>Oprettet 10. dec. 2019</td>\n",
       "      <td>501 m²</td>\n",
       "      <td>4.059 m²</td>\n",
       "      <td>9</td>\n",
       "      <td>0. sal</td>\n",
       "      <td>1823</td>\n",
       "      <td>D</td>\n",
       "      <td>15.535 kr. / md.</td>\n",
       "      <td>0 m²</td>\n",
       "    </tr>\n",
       "  </tbody>\n",
       "</table>\n",
       "</div>"
      ],
      "text/plain": [
       "          id             price                                       address  \\\n",
       "0  /1485565/    4.495.000 kr.                    Enhøjsvej 22, 3450 Allerød    \n",
       "1  /1511475/    5.245.000 kr.      Skovvejen 21  3450 Allerød, 3450 Allerød    \n",
       "2  /1572772/   14.950.000 kr.    Kollerød Bygade 23, Kollerød, 3450 Allerød    \n",
       "3  /1606136/    5.295.000 kr.                 Bybrøndstræde 1, 3500 Værløse    \n",
       "4  /1620436/   13.500.000 kr.                  Kollerødvej 51, 3450 Allerød    \n",
       "\n",
       "                    created #icon-square #icon-lot-size #icon-rooms  \\\n",
       "0   Oprettet 24. sep. 2018        219 m²       1.182 m²           7   \n",
       "1   Oprettet 27. dec. 2018        173 m²         681 m²           4   \n",
       "2   Oprettet 29. jun. 2019        250 m²     147.974 m²          10   \n",
       "3   Oprettet 17. okt. 2019        185 m²         647 m²           6   \n",
       "4   Oprettet 10. dec. 2019        501 m²       4.059 m²           9   \n",
       "\n",
       "  #icon-floor #icon-construction-year #icon-energy       #icon-taxes  \\\n",
       "0      0. sal                    1949            D   5.315 kr. / md.   \n",
       "1      0. sal                    2019            -   7.732 kr. / md.   \n",
       "2      0. sal                    1996          A10   4.514 kr. / md.   \n",
       "3      0. sal                    1850            C   5.061 kr. / md.   \n",
       "4      0. sal                    1823            D  15.535 kr. / md.   \n",
       "\n",
       "  #icon-basement-size  \n",
       "0              102 m²  \n",
       "1                0 m²  \n",
       "2                0 m²  \n",
       "3                0 m²  \n",
       "4                0 m²  "
      ]
     },
     "execution_count": 106,
     "metadata": {},
     "output_type": "execute_result"
    }
   ],
   "source": [
    "df = getListingData(listings)\n",
    "df.head()"
   ]
  },
  {
   "cell_type": "code",
   "execution_count": null,
   "metadata": {},
   "outputs": [],
   "source": []
  }
 ],
 "metadata": {
  "kernelspec": {
   "display_name": "Python 3",
   "language": "python",
   "name": "python3"
  },
  "language_info": {
   "codemirror_mode": {
    "name": "ipython",
    "version": 3
   },
   "file_extension": ".py",
   "mimetype": "text/x-python",
   "name": "python",
   "nbconvert_exporter": "python",
   "pygments_lexer": "ipython3",
   "version": "3.8.6"
  }
 },
 "nbformat": 4,
 "nbformat_minor": 4
}
