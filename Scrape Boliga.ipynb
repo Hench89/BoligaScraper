{
 "cells": [
  {
   "cell_type": "markdown",
   "metadata": {},
   "source": [
    "## Setup"
   ]
  },
  {
   "cell_type": "code",
   "execution_count": 1,
   "metadata": {},
   "outputs": [],
   "source": [
    "import mechanicalsoup as ms"
   ]
  },
  {
   "cell_type": "code",
   "execution_count": 12,
   "metadata": {},
   "outputs": [],
   "source": [
    "# pull out lines\n",
    "def getContents(txt):\n",
    "    li = txt.prettify().split('\\n')\n",
    "    li = [item.strip() for item in li]\n",
    "    #li.remove('')\n",
    "    return [x for x in li if not x.startswith(('<'))]"
   ]
  },
  {
   "cell_type": "markdown",
   "metadata": {},
   "source": [
    "## Pull HTML"
   ]
  },
  {
   "cell_type": "code",
   "execution_count": 13,
   "metadata": {},
   "outputs": [],
   "source": [
    "# get data as html\n",
    "browser = ms.StatefulBrowser()\n",
    "browser.open(\"https://www.boliga.dk/resultat?zipCodes=3450\")\n",
    "html = browser.get_current_page()"
   ]
  },
  {
   "cell_type": "markdown",
   "metadata": {},
   "source": [
    "## Read Listing"
   ]
  },
  {
   "cell_type": "code",
   "execution_count": 14,
   "metadata": {},
   "outputs": [],
   "source": [
    "# get 1 listing\n",
    "tmp = html.find_all('app-listing-information-lg')[0]\n",
    "\n",
    "# get left side data\n",
    "left = tmp.find_all(attrs={'class': \"d-flex justify-content-between px-4 pt-4 pb-1\"})[0]\n",
    "house = tmp.find_all(attrs={'class': 'house-details-blocks'})[0]"
   ]
  },
  {
   "cell_type": "code",
   "execution_count": 15,
   "metadata": {},
   "outputs": [
    {
     "data": {
      "text/plain": [
       "['Rækkehus med 4 værelser',\n",
       " 'Drabæk Huse 91  3450 Allerød,',\n",
       " '3450 Allerød',\n",
       " 'Pris er faldet',\n",
       " '3.745.000\\xa0kr.',\n",
       " '30.201\\xa0kr. / m²',\n",
       " '']"
      ]
     },
     "execution_count": 15,
     "metadata": {},
     "output_type": "execute_result"
    }
   ],
   "source": [
    "# get data\n",
    "getContents(left)"
   ]
  },
  {
   "cell_type": "code",
   "execution_count": 16,
   "metadata": {},
   "outputs": [
    {
     "data": {
      "text/plain": [
       "['4 værelser', 'Boligstørrelse', '124 m²', 'Energimærke: A20']"
      ]
     },
     "execution_count": 16,
     "metadata": {},
     "output_type": "execute_result"
    }
   ],
   "source": [
    "# get house\n",
    "getContents(house)"
   ]
  }
 ],
 "metadata": {
  "kernelspec": {
   "display_name": "Python 3",
   "language": "python",
   "name": "python3"
  },
  "language_info": {
   "codemirror_mode": {
    "name": "ipython",
    "version": 3
   },
   "file_extension": ".py",
   "mimetype": "text/x-python",
   "name": "python",
   "nbconvert_exporter": "python",
   "pygments_lexer": "ipython3",
   "version": "3.8.6"
  }
 },
 "nbformat": 4,
 "nbformat_minor": 4
}
