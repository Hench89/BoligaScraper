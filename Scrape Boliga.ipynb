{
 "cells": [
  {
   "cell_type": "markdown",
   "metadata": {},
   "source": [
    "## Setup"
   ]
  },
  {
   "cell_type": "code",
   "execution_count": 1,
   "metadata": {},
   "outputs": [],
   "source": [
    "import mechanicalsoup as ms\n",
    "import pandas as pd\n",
    "import numpy as np\n",
    "import re"
   ]
  },
  {
   "cell_type": "markdown",
   "metadata": {},
   "source": [
    "## Pull HTML"
   ]
  },
  {
   "cell_type": "code",
   "execution_count": 3,
   "metadata": {},
   "outputs": [],
   "source": [
    "# get data as html\n",
    "browser = ms.StatefulBrowser()\n",
    "browser.open(\"https://www.boliga.dk/resultat?zipCodes=3450\")\n",
    "html = browser.get_current_page()"
   ]
  },
  {
   "cell_type": "markdown",
   "metadata": {},
   "source": [
    "## Get Listings"
   ]
  },
  {
   "cell_type": "code",
   "execution_count": 4,
   "metadata": {},
   "outputs": [],
   "source": [
    "boligs = []\n",
    "\n",
    "for a in html.find_all('a', attrs={'href': re.compile(\"^/bolig/\")}):\n",
    "    url = \"https://www.boliga.dk\" + a.get('href')\n",
    "    boligs.append(url)\n",
    "    \n",
    "boligs = np.unique(boligs)"
   ]
  },
  {
   "cell_type": "markdown",
   "metadata": {},
   "source": [
    "# Get specific listing"
   ]
  },
  {
   "cell_type": "code",
   "execution_count": 9,
   "metadata": {},
   "outputs": [
    {
     "data": {
      "text/plain": [
       "'https://www.boliga.dk/bolig/1701669/laehegnet_3_3450_alleroed'"
      ]
     },
     "execution_count": 9,
     "metadata": {},
     "output_type": "execute_result"
    }
   ],
   "source": [
    "boligs[0]"
   ]
  },
  {
   "cell_type": "code",
   "execution_count": 52,
   "metadata": {},
   "outputs": [],
   "source": [
    "def getStuff(url):\n",
    "    \n",
    "    browser = ms.StatefulBrowser()\n",
    "    browser.open(url)\n",
    "    soup = browser.get_current_page()\n",
    "\n",
    "    inner_details = soup.find_all('div', attrs={'class': 'app-inner-details'})[0]\n",
    "    spans = inner_details.select('span')\n",
    "    spans = [item.get_text() for item in spans]\n",
    "    \n",
    "    stuff = {\n",
    "        'url' : url,\n",
    "        'pris' : spans[0],\n",
    "        'size' : list(filter(re.compile('Boligstørrelse:').search, spans))[0]\n",
    "    }\n",
    "    \n",
    "    return stuff"
   ]
  },
  {
   "cell_type": "code",
   "execution_count": 55,
   "metadata": {},
   "outputs": [],
   "source": [
    "stuff_list = []\n",
    "for b in boligs:\n",
    "    s = getStuff(b)\n",
    "    stuff_list.append(s)"
   ]
  },
  {
   "cell_type": "code",
   "execution_count": 56,
   "metadata": {},
   "outputs": [
    {
     "data": {
      "text/plain": [
       "[{'url': 'https://www.boliga.dk/bolig/1701669/laehegnet_3_3450_alleroed',\n",
       "  'pris': ' 8.495.000\\xa0kr. ',\n",
       "  'size': ' Boligstørrelse: 232 m² '},\n",
       " {'url': 'https://www.boliga.dk/bolig/1706815/bjergvej_13_3450_alleroed',\n",
       "  'pris': ' 4.445.000\\xa0kr. ',\n",
       "  'size': ' Boligstørrelse: 166 m² '},\n",
       " {'url': 'https://www.boliga.dk/bolig/1711938/guldborgvej_6_3450_alleroed',\n",
       "  'pris': ' 6.250.000\\xa0kr. ',\n",
       "  'size': ' Boligstørrelse: 194 m² '},\n",
       " {'url': 'https://www.boliga.dk/bolig/1712322/bakkevej_16_3450_alleroed',\n",
       "  'pris': ' 4.195.000\\xa0kr. ',\n",
       "  'size': ' Boligstørrelse: 159 m² '},\n",
       " {'url': 'https://www.boliga.dk/bolig/1713221/skytteengen_1_3450_alleroed',\n",
       "  'pris': ' 3.345.000\\xa0kr. ',\n",
       "  'size': ' Boligstørrelse: 129 m² '},\n",
       " {'url': 'https://www.boliga.dk/bolig/1713803/gl_lyngevej_86b_3450_alleroed',\n",
       "  'pris': ' 4.495.000\\xa0kr. ',\n",
       "  'size': ' Boligstørrelse: 170 m² '},\n",
       " {'url': 'https://www.boliga.dk/bolig/1713913/alleroed_park_19_st_-egen_terrasse-_3450_alleroed',\n",
       "  'pris': ' 2.795.000\\xa0kr. ',\n",
       "  'size': ' Boligstørrelse: 67 m² '},\n",
       " {'url': 'https://www.boliga.dk/bolig/1714098/tokkekoebvej_11_3450_alleroed',\n",
       "  'pris': ' 4.595.000\\xa0kr. ',\n",
       "  'size': ' Boligstørrelse: 184 m² '},\n",
       " {'url': 'https://www.boliga.dk/bolig/1714181/prunusvej_27_3450_alleroed',\n",
       "  'pris': ' 5.495.555\\xa0kr. ',\n",
       "  'size': ' Boligstørrelse: 161 m² '},\n",
       " {'url': 'https://www.boliga.dk/bolig/1714641/alleroed_park_2_st_tv_3450_alleroed',\n",
       "  'pris': ' 3.475.000\\xa0kr. ',\n",
       "  'size': ' Boligstørrelse: 96 m² '},\n",
       " {'url': 'https://www.boliga.dk/bolig/1716256/birkedalsvej_8_3450_alleroed',\n",
       "  'pris': ' 6.795.000\\xa0kr. ',\n",
       "  'size': ' Boligstørrelse: 223 m² '},\n",
       " {'url': 'https://www.boliga.dk/bolig/1718513/kolleroed_bygade_8a_3450_alleroed',\n",
       "  'pris': ' 2.150.000\\xa0kr. ',\n",
       "  'size': ' Boligstørrelse: 0 m² '},\n",
       " {'url': 'https://www.boliga.dk/bolig/1718514/kolleroed_bygade_8b_3450_alleroed',\n",
       "  'pris': ' 2.150.000\\xa0kr. ',\n",
       "  'size': ' Boligstørrelse: 0 m² '},\n",
       " {'url': 'https://www.boliga.dk/bolig/1718654/soebrinken_13_3450_alleroed',\n",
       "  'pris': ' 4.495.000\\xa0kr. ',\n",
       "  'size': ' Boligstørrelse: 178 m² '},\n",
       " {'url': 'https://www.boliga.dk/bolig/1719058/roeglevej_94_3450_alleroed',\n",
       "  'pris': ' 4.195.000\\xa0kr. ',\n",
       "  'size': ' Boligstørrelse: 168 m² '},\n",
       " {'url': 'https://www.boliga.dk/bolig/1719679/soerupgaardsvej_12_3450_alleroed',\n",
       "  'pris': ' 5.995.000\\xa0kr. ',\n",
       "  'size': ' Boligstørrelse: 134 m² '},\n",
       " {'url': 'https://www.boliga.dk/bolig/1720220/skovmarken_14_3450_alleroed',\n",
       "  'pris': ' 4.645.000\\xa0kr. ',\n",
       "  'size': ' Boligstørrelse: 165 m² '},\n",
       " {'url': 'https://www.boliga.dk/bolig/1721595/hoermarken_8_3450_alleroed',\n",
       "  'pris': ' 4.795.000\\xa0kr. ',\n",
       "  'size': ' Boligstørrelse: 164 m² '},\n",
       " {'url': 'https://www.boliga.dk/bolig/1721877/lucernevej_9_3450_alleroed',\n",
       "  'pris': ' 3.945.000\\xa0kr. ',\n",
       "  'size': ' Boligstørrelse: 113 m² '},\n",
       " {'url': 'https://www.boliga.dk/bolig/1722054/rosevej_3__3450_alleroed_3450_alleroed',\n",
       "  'pris': ' 5.295.000\\xa0kr. ',\n",
       "  'size': ' Boligstørrelse: 172 m² '},\n",
       " {'url': 'https://www.boliga.dk/bolig/1722183/valnoeddevej_5_3450_alleroed',\n",
       "  'pris': ' 3.595.000\\xa0kr. ',\n",
       "  'size': ' Boligstørrelse: 93 m² '},\n",
       " {'url': 'https://www.boliga.dk/bolig/1722274/ville_heise_park_14_3450_alleroed',\n",
       "  'pris': ' 3.995.000\\xa0kr. ',\n",
       "  'size': ' Boligstørrelse: 130 m² '},\n",
       " {'url': 'https://www.boliga.dk/bolig/1722351/horsemosevej_8_3450_alleroed',\n",
       "  'pris': ' 6.995.000\\xa0kr. ',\n",
       "  'size': ' Boligstørrelse: 196 m² '},\n",
       " {'url': 'https://www.boliga.dk/bolig/1722425/kolleroed_bygade_1_kolleroed_3450_alleroed',\n",
       "  'pris': ' 4.595.000\\xa0kr. ',\n",
       "  'size': ' Boligstørrelse: 148 m² '},\n",
       " {'url': 'https://www.boliga.dk/bolig/1722998/drabaek_huse_91__3450_alleroed_3450_alleroed',\n",
       "  'pris': ' 3.745.000\\xa0kr. ',\n",
       "  'size': ' Boligstørrelse: 124 m² '},\n",
       " {'url': 'https://www.boliga.dk/bolig/1724544/kolleroed_bygade_2b__3450_alleroed_3450_alleroed',\n",
       "  'pris': ' 4.695.000\\xa0kr. ',\n",
       "  'size': ' Boligstørrelse: 169 m² '},\n",
       " {'url': 'https://www.boliga.dk/bolig/1724786/fritz_hansens_vej_22_1_3450_alleroed',\n",
       "  'pris': ' 3.995.000\\xa0kr. ',\n",
       "  'size': ' Boligstørrelse: 147 m² '},\n",
       " {'url': 'https://www.boliga.dk/bolig/1725767/oestervang_31_3450_alleroed',\n",
       "  'pris': ' 4.495.000\\xa0kr. ',\n",
       "  'size': ' Boligstørrelse: 166 m² '},\n",
       " {'url': 'https://www.boliga.dk/bolig/1726128/raadhusparken_1__st_tv__3450_alleroed_3450_alleroed',\n",
       "  'pris': ' 4.095.000\\xa0kr. ',\n",
       "  'size': ' Boligstørrelse: 136 m² '},\n",
       " {'url': 'https://www.boliga.dk/bolig/1726139/roermosevaenget_19__3450_alleroed_3450_alleroed',\n",
       "  'pris': ' 2.795.000\\xa0kr. ',\n",
       "  'size': ' Boligstørrelse: 108 m² '},\n",
       " {'url': 'https://www.boliga.dk/bolig/1726505/hjortevaenget_3_3450_alleroed',\n",
       "  'pris': ' 4.445.000\\xa0kr. ',\n",
       "  'size': ' Boligstørrelse: 174 m² '},\n",
       " {'url': 'https://www.boliga.dk/bolig/1726774/skytteengen_12_3450_alleroed',\n",
       "  'pris': ' 3.495.000\\xa0kr. ',\n",
       "  'size': ' Boligstørrelse: 146 m² '},\n",
       " {'url': 'https://www.boliga.dk/bolig/1727379/prins_valdemars_alle_15b_3450_alleroed',\n",
       "  'pris': ' 3.950.000\\xa0kr. ',\n",
       "  'size': ' Boligstørrelse: 161 m² '},\n",
       " {'url': 'https://www.boliga.dk/bolig/1727394/femvej_3_3450_alleroed',\n",
       "  'pris': ' 5.495.000\\xa0kr. ',\n",
       "  'size': ' Boligstørrelse: 161 m² '},\n",
       " {'url': 'https://www.boliga.dk/bolig/1728585/groenningen_53_3450_alleroed',\n",
       "  'pris': ' 6.195.000\\xa0kr. ',\n",
       "  'size': ' Boligstørrelse: 175 m² '},\n",
       " {'url': 'https://www.boliga.dk/bolig/1728826/skolelodden_20_3450_alleroed',\n",
       "  'pris': ' 4.995.000\\xa0kr. ',\n",
       "  'size': ' Boligstørrelse: 174 m² '},\n",
       " {'url': 'https://www.boliga.dk/bolig/1730034/soeengen_74_3450_alleroed',\n",
       "  'pris': ' 2.335.000\\xa0kr. ',\n",
       "  'size': ' Boligstørrelse: 75 m² '},\n",
       " {'url': 'https://www.boliga.dk/bolig/1730388/viaduktvej_22_3450_alleroed',\n",
       "  'pris': ' 3.495.000\\xa0kr. ',\n",
       "  'size': ' Boligstørrelse: 110 m² '},\n",
       " {'url': 'https://www.boliga.dk/bolig/1731281/soetoften_12_3450_alleroed',\n",
       "  'pris': ' 3.750.000\\xa0kr. ',\n",
       "  'size': ' Boligstørrelse: 139 m² '},\n",
       " {'url': 'https://www.boliga.dk/bolig/1731526/raadyrvaenget_10_3450_alleroed',\n",
       "  'pris': ' 3.695.000\\xa0kr. ',\n",
       "  'size': ' Boligstørrelse: 143 m² '},\n",
       " {'url': 'https://www.boliga.dk/bolig/1734460/skyttevej_15_3450_alleroed',\n",
       "  'pris': ' 5.150.000\\xa0kr. ',\n",
       "  'size': ' Boligstørrelse: 187 m² '},\n",
       " {'url': 'https://www.boliga.dk/bolig/1734969/ville_heise_park_23_3450_alleroed',\n",
       "  'pris': ' 3.795.000\\xa0kr. ',\n",
       "  'size': ' Boligstørrelse: 128 m² '},\n",
       " {'url': 'https://www.boliga.dk/bolig/1735339/pinievangen_72_3450_alleroed',\n",
       "  'pris': ' 3.295.000\\xa0kr. ',\n",
       "  'size': ' Boligstørrelse: 112 m² '},\n",
       " {'url': 'https://www.boliga.dk/bolig/1735511/kolleroedvej_21__3450_alleroed_3450_alleroed',\n",
       "  'pris': ' 3.795.000\\xa0kr. ',\n",
       "  'size': ' Boligstørrelse: 108 m² '},\n",
       " {'url': 'https://www.boliga.dk/bolig/1735516/skyttevangen_18__3450_alleroed_3450_alleroed',\n",
       "  'pris': ' 3.195.000\\xa0kr. ',\n",
       "  'size': ' Boligstørrelse: 129 m² '},\n",
       " {'url': 'https://www.boliga.dk/bolig/1735743/magnolievangen_87_3450_alleroed',\n",
       "  'pris': ' 3.195.000\\xa0kr. ',\n",
       "  'size': ' Boligstørrelse: 112 m² '},\n",
       " {'url': 'https://www.boliga.dk/bolig/1735916/jaegerhegnet_29_3450_alleroed',\n",
       "  'pris': ' 2.895.000\\xa0kr. ',\n",
       "  'size': ' Boligstørrelse: 94 m² '},\n",
       " {'url': 'https://www.boliga.dk/bolig/1735928/kolleroed_bygade_6_3450_alleroed',\n",
       "  'pris': ' 17.500.000\\xa0kr. ',\n",
       "  'size': ' Boligstørrelse: 543 m² '}]"
      ]
     },
     "execution_count": 56,
     "metadata": {},
     "output_type": "execute_result"
    }
   ],
   "source": [
    "stuff_list"
   ]
  }
 ],
 "metadata": {
  "kernelspec": {
   "display_name": "Python 3",
   "language": "python",
   "name": "python3"
  },
  "language_info": {
   "codemirror_mode": {
    "name": "ipython",
    "version": 3
   },
   "file_extension": ".py",
   "mimetype": "text/x-python",
   "name": "python",
   "nbconvert_exporter": "python",
   "pygments_lexer": "ipython3",
   "version": "3.8.6"
  }
 },
 "nbformat": 4,
 "nbformat_minor": 4
}
